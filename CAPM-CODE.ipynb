{
 "cells": [
  {
   "cell_type": "markdown",
   "id": "361177e2",
   "metadata": {},
   "source": [
    "# <center>Capital asset price model project</center>\n",
    "### **<center> Expected return calculation of the Microsoft stock using the CAPM formula </center>**\n",
    "\n",
    "### **<center>Mijail Dragowski</center>**\n",
    "### **<center>2023</center>**"
   ]
  },
  {
   "cell_type": "markdown",
   "id": "9bd9edfd",
   "metadata": {},
   "source": [
    "## Import the necessary libraries\n"
   ]
  },
  {
   "cell_type": "code",
   "execution_count": 1,
   "id": "695dfae0",
   "metadata": {},
   "outputs": [],
   "source": [
    "import yfinance as yf\n",
    "import pandas as pd\n",
    "import statsmodels.formula.api as smf\n",
    "from sklearn.linear_model import LinearRegression\n",
    "import matplotlib.pyplot as plt\n",
    "%matplotlib inline"
   ]
  },
  {
   "cell_type": "markdown",
   "id": "aca9e130",
   "metadata": {},
   "source": [
    "## Load the Microsoft Stock data\n"
   ]
  },
  {
   "cell_type": "code",
   "execution_count": 2,
   "id": "a9c62278",
   "metadata": {},
   "outputs": [
    {
     "name": "stdout",
     "output_type": "stream",
     "text": [
      "[*********************100%***********************]  1 of 1 completed\n"
     ]
    },
    {
     "data": {
      "text/html": [
       "<div>\n",
       "<style scoped>\n",
       "    .dataframe tbody tr th:only-of-type {\n",
       "        vertical-align: middle;\n",
       "    }\n",
       "\n",
       "    .dataframe tbody tr th {\n",
       "        vertical-align: top;\n",
       "    }\n",
       "\n",
       "    .dataframe thead th {\n",
       "        text-align: right;\n",
       "    }\n",
       "</style>\n",
       "<table border=\"1\" class=\"dataframe\">\n",
       "  <thead>\n",
       "    <tr style=\"text-align: right;\">\n",
       "      <th></th>\n",
       "      <th>Open</th>\n",
       "      <th>High</th>\n",
       "      <th>Low</th>\n",
       "      <th>Close</th>\n",
       "      <th>Adj Close</th>\n",
       "      <th>Volume</th>\n",
       "    </tr>\n",
       "    <tr>\n",
       "      <th>Date</th>\n",
       "      <th></th>\n",
       "      <th></th>\n",
       "      <th></th>\n",
       "      <th></th>\n",
       "      <th></th>\n",
       "      <th></th>\n",
       "    </tr>\n",
       "  </thead>\n",
       "  <tbody>\n",
       "    <tr>\n",
       "      <th>2017-01-03</th>\n",
       "      <td>62.790001</td>\n",
       "      <td>62.840000</td>\n",
       "      <td>62.130001</td>\n",
       "      <td>62.580002</td>\n",
       "      <td>57.501350</td>\n",
       "      <td>20694100</td>\n",
       "    </tr>\n",
       "    <tr>\n",
       "      <th>2017-01-04</th>\n",
       "      <td>62.480000</td>\n",
       "      <td>62.750000</td>\n",
       "      <td>62.119999</td>\n",
       "      <td>62.299999</td>\n",
       "      <td>57.244064</td>\n",
       "      <td>21340000</td>\n",
       "    </tr>\n",
       "    <tr>\n",
       "      <th>2017-01-05</th>\n",
       "      <td>62.189999</td>\n",
       "      <td>62.660000</td>\n",
       "      <td>62.029999</td>\n",
       "      <td>62.299999</td>\n",
       "      <td>57.244064</td>\n",
       "      <td>24876000</td>\n",
       "    </tr>\n",
       "    <tr>\n",
       "      <th>2017-01-06</th>\n",
       "      <td>62.299999</td>\n",
       "      <td>63.150002</td>\n",
       "      <td>62.040001</td>\n",
       "      <td>62.840000</td>\n",
       "      <td>57.740250</td>\n",
       "      <td>19922900</td>\n",
       "    </tr>\n",
       "    <tr>\n",
       "      <th>2017-01-09</th>\n",
       "      <td>62.759998</td>\n",
       "      <td>63.080002</td>\n",
       "      <td>62.540001</td>\n",
       "      <td>62.639999</td>\n",
       "      <td>57.556488</td>\n",
       "      <td>20382700</td>\n",
       "    </tr>\n",
       "  </tbody>\n",
       "</table>\n",
       "</div>"
      ],
      "text/plain": [
       "                 Open       High        Low      Close  Adj Close    Volume\n",
       "Date                                                                       \n",
       "2017-01-03  62.790001  62.840000  62.130001  62.580002  57.501350  20694100\n",
       "2017-01-04  62.480000  62.750000  62.119999  62.299999  57.244064  21340000\n",
       "2017-01-05  62.189999  62.660000  62.029999  62.299999  57.244064  24876000\n",
       "2017-01-06  62.299999  63.150002  62.040001  62.840000  57.740250  19922900\n",
       "2017-01-09  62.759998  63.080002  62.540001  62.639999  57.556488  20382700"
      ]
     },
     "execution_count": 2,
     "metadata": {},
     "output_type": "execute_result"
    }
   ],
   "source": [
    "Microsoft=yf.download(\"MSFT\", start=\"2017-01-01\", end=\"2022-12-31\")\n",
    "Microsoft.head()"
   ]
  },
  {
   "cell_type": "markdown",
   "id": "edb0519a",
   "metadata": {},
   "source": [
    "## Load the S&P 500 ETF data"
   ]
  },
  {
   "cell_type": "code",
   "execution_count": 3,
   "id": "1e035d47",
   "metadata": {},
   "outputs": [
    {
     "name": "stdout",
     "output_type": "stream",
     "text": [
      "[*********************100%***********************]  1 of 1 completed\n"
     ]
    },
    {
     "data": {
      "text/html": [
       "<div>\n",
       "<style scoped>\n",
       "    .dataframe tbody tr th:only-of-type {\n",
       "        vertical-align: middle;\n",
       "    }\n",
       "\n",
       "    .dataframe tbody tr th {\n",
       "        vertical-align: top;\n",
       "    }\n",
       "\n",
       "    .dataframe thead th {\n",
       "        text-align: right;\n",
       "    }\n",
       "</style>\n",
       "<table border=\"1\" class=\"dataframe\">\n",
       "  <thead>\n",
       "    <tr style=\"text-align: right;\">\n",
       "      <th></th>\n",
       "      <th>Open</th>\n",
       "      <th>High</th>\n",
       "      <th>Low</th>\n",
       "      <th>Close</th>\n",
       "      <th>Adj Close</th>\n",
       "      <th>Volume</th>\n",
       "    </tr>\n",
       "    <tr>\n",
       "      <th>Date</th>\n",
       "      <th></th>\n",
       "      <th></th>\n",
       "      <th></th>\n",
       "      <th></th>\n",
       "      <th></th>\n",
       "      <th></th>\n",
       "    </tr>\n",
       "  </thead>\n",
       "  <tbody>\n",
       "    <tr>\n",
       "      <th>2017-01-03</th>\n",
       "      <td>225.039993</td>\n",
       "      <td>225.830002</td>\n",
       "      <td>223.880005</td>\n",
       "      <td>225.240005</td>\n",
       "      <td>202.856552</td>\n",
       "      <td>91366500</td>\n",
       "    </tr>\n",
       "    <tr>\n",
       "      <th>2017-01-04</th>\n",
       "      <td>225.619995</td>\n",
       "      <td>226.750000</td>\n",
       "      <td>225.610001</td>\n",
       "      <td>226.580002</td>\n",
       "      <td>204.063370</td>\n",
       "      <td>78744400</td>\n",
       "    </tr>\n",
       "    <tr>\n",
       "      <th>2017-01-05</th>\n",
       "      <td>226.270004</td>\n",
       "      <td>226.580002</td>\n",
       "      <td>225.479996</td>\n",
       "      <td>226.399994</td>\n",
       "      <td>203.901276</td>\n",
       "      <td>78379000</td>\n",
       "    </tr>\n",
       "    <tr>\n",
       "      <th>2017-01-06</th>\n",
       "      <td>226.529999</td>\n",
       "      <td>227.750000</td>\n",
       "      <td>225.899994</td>\n",
       "      <td>227.210007</td>\n",
       "      <td>204.630768</td>\n",
       "      <td>71559900</td>\n",
       "    </tr>\n",
       "    <tr>\n",
       "      <th>2017-01-09</th>\n",
       "      <td>226.910004</td>\n",
       "      <td>227.070007</td>\n",
       "      <td>226.419998</td>\n",
       "      <td>226.460007</td>\n",
       "      <td>203.955307</td>\n",
       "      <td>46939700</td>\n",
       "    </tr>\n",
       "  </tbody>\n",
       "</table>\n",
       "</div>"
      ],
      "text/plain": [
       "                  Open        High         Low       Close   Adj Close  \\\n",
       "Date                                                                     \n",
       "2017-01-03  225.039993  225.830002  223.880005  225.240005  202.856552   \n",
       "2017-01-04  225.619995  226.750000  225.610001  226.580002  204.063370   \n",
       "2017-01-05  226.270004  226.580002  225.479996  226.399994  203.901276   \n",
       "2017-01-06  226.529999  227.750000  225.899994  227.210007  204.630768   \n",
       "2017-01-09  226.910004  227.070007  226.419998  226.460007  203.955307   \n",
       "\n",
       "              Volume  \n",
       "Date                  \n",
       "2017-01-03  91366500  \n",
       "2017-01-04  78744400  \n",
       "2017-01-05  78379000  \n",
       "2017-01-06  71559900  \n",
       "2017-01-09  46939700  "
      ]
     },
     "execution_count": 3,
     "metadata": {},
     "output_type": "execute_result"
    }
   ],
   "source": [
    "S_P500=yf.download(\"SPY\", start=\"2017-01-01\", end=\"2022-12-31\")\n",
    "S_P500.head()"
   ]
  },
  {
   "cell_type": "markdown",
   "id": "156c18b3",
   "metadata": {},
   "source": [
    "## Adjusted closing price time series chart\n"
   ]
  },
  {
   "cell_type": "code",
   "execution_count": 4,
   "id": "bcdda67e",
   "metadata": {},
   "outputs": [
    {
     "data": {
      "text/plain": [
       "<matplotlib.legend.Legend at 0x2098b851d30>"
      ]
     },
     "execution_count": 4,
     "metadata": {},
     "output_type": "execute_result"
    },
    {
     "data": {
      "image/png": "[encoded data removed]",
      "text/plain": [
       "<Figure size 800x600 with 1 Axes>"
      ]
     },
     "metadata": {},
     "output_type": "display_data"
    }
   ],
   "source": [
    "Microsoft['Adj Close'].plot(label='Microsoft',figsize=(8,6))\n",
    "S_P500['Adj Close'].plot(label=\"S&P 500\")\n",
    "plt.legend()\n"
   ]
  },
  {
   "cell_type": "markdown",
   "id": "b0cf69fb",
   "metadata": {},
   "source": [
    "## Cumulative return calculation\n"
   ]
  },
  {
   "cell_type": "code",
   "execution_count": 5,
   "id": "f8286d6d",
   "metadata": {},
   "outputs": [],
   "source": [
    "Microsoft[\"cumulative return\"]=Microsoft['Adj Close']/Microsoft['Adj Close'].iloc[0]\n",
    "S_P500[\"cumulative return\"]=S_P500['Adj Close']/S_P500['Adj Close'].iloc[0]"
   ]
  },
  {
   "cell_type": "markdown",
   "id": "41c7dcf2",
   "metadata": {},
   "source": [
    "##  Cumulative return graph\n"
   ]
  },
  {
   "cell_type": "code",
   "execution_count": 6,
   "id": "df9e2c83",
   "metadata": {},
   "outputs": [
    {
     "data": {
      "text/plain": [
       "<matplotlib.legend.Legend at 0x2098bba3c40>"
      ]
     },
     "execution_count": 6,
     "metadata": {},
     "output_type": "execute_result"
    },
    {
     "data": {
      "image/png": "[encoded data removed]",
      "text/plain": [
       "<Figure size 800x600 with 1 Axes>"
      ]
     },
     "metadata": {},
     "output_type": "display_data"
    }
   ],
   "source": [
    "Microsoft['cumulative return'].plot(label='Microsoft',figsize=(8,6))\n",
    "S_P500['cumulative return'].plot(label=\"S&P 500\")\n",
    "plt.legend()"
   ]
  },
  {
   "cell_type": "markdown",
   "id": "a977c38d",
   "metadata": {},
   "source": [
    "## Generate a data frame with the daily return of the market and microsoft stock\n"
   ]
  },
  {
   "cell_type": "code",
   "execution_count": 7,
   "id": "3e79c65d",
   "metadata": {},
   "outputs": [
    {
     "data": {
      "text/html": [
       "<div>\n",
       "<style scoped>\n",
       "    .dataframe tbody tr th:only-of-type {\n",
       "        vertical-align: middle;\n",
       "    }\n",
       "\n",
       "    .dataframe tbody tr th {\n",
       "        vertical-align: top;\n",
       "    }\n",
       "\n",
       "    .dataframe thead th {\n",
       "        text-align: right;\n",
       "    }\n",
       "</style>\n",
       "<table border=\"1\" class=\"dataframe\">\n",
       "  <thead>\n",
       "    <tr style=\"text-align: right;\">\n",
       "      <th></th>\n",
       "      <th>Daily_return_MSFT</th>\n",
       "      <th>Daily_return_SP500</th>\n",
       "    </tr>\n",
       "    <tr>\n",
       "      <th>Date</th>\n",
       "      <th></th>\n",
       "      <th></th>\n",
       "    </tr>\n",
       "  </thead>\n",
       "  <tbody>\n",
       "    <tr>\n",
       "      <th>2017-01-03</th>\n",
       "      <td>NaN</td>\n",
       "      <td>NaN</td>\n",
       "    </tr>\n",
       "    <tr>\n",
       "      <th>2017-01-04</th>\n",
       "      <td>-0.004474</td>\n",
       "      <td>0.005949</td>\n",
       "    </tr>\n",
       "    <tr>\n",
       "      <th>2017-01-05</th>\n",
       "      <td>0.000000</td>\n",
       "      <td>-0.000794</td>\n",
       "    </tr>\n",
       "    <tr>\n",
       "      <th>2017-01-06</th>\n",
       "      <td>0.008668</td>\n",
       "      <td>0.003578</td>\n",
       "    </tr>\n",
       "    <tr>\n",
       "      <th>2017-01-09</th>\n",
       "      <td>-0.003183</td>\n",
       "      <td>-0.003301</td>\n",
       "    </tr>\n",
       "  </tbody>\n",
       "</table>\n",
       "</div>"
      ],
      "text/plain": [
       "            Daily_return_MSFT  Daily_return_SP500\n",
       "Date                                             \n",
       "2017-01-03                NaN                 NaN\n",
       "2017-01-04          -0.004474            0.005949\n",
       "2017-01-05           0.000000           -0.000794\n",
       "2017-01-06           0.008668            0.003578\n",
       "2017-01-09          -0.003183           -0.003301"
      ]
     },
     "execution_count": 7,
     "metadata": {},
     "output_type": "execute_result"
    }
   ],
   "source": [
    "Microsoft[\"Daily return\"]= Microsoft['Adj Close'].pct_change(1)\n",
    "S_P500[\"Daily return\"]= S_P500['Adj Close'].pct_change(1)\n",
    "DR= pd.merge(Microsoft[['Daily return']], S_P500[['Daily return']], left_index=True, right_index=True)\n",
    "DR.columns = ['Daily_return_MSFT', 'Daily_return_SP500']\n",
    "DR.head()"
   ]
  },
  {
   "cell_type": "markdown",
   "id": "e2e3e6c8",
   "metadata": {},
   "source": [
    "## Linear regression to calculate the beta\n"
   ]
  },
  {
   "cell_type": "code",
   "execution_count": 8,
   "id": "7e84ac7e",
   "metadata": {},
   "outputs": [
    {
     "data": {
      "text/html": [
       "<table class=\"simpletable\">\n",
       "<caption>OLS Regression Results</caption>\n",
       "<tr>\n",
       "  <th>Dep. Variable:</th>    <td>Daily_return_MSFT</td> <th>  R-squared:         </th> <td>   0.712</td>\n",
       "</tr>\n",
       "<tr>\n",
       "  <th>Model:</th>                   <td>OLS</td>        <th>  Adj. R-squared:    </th> <td>   0.711</td>\n",
       "</tr>\n",
       "<tr>\n",
       "  <th>Method:</th>             <td>Least Squares</td>   <th>  F-statistic:       </th> <td>   3718.</td>\n",
       "</tr>\n",
       "<tr>\n",
       "  <th>Date:</th>             <td>Tue, 07 Mar 2023</td>  <th>  Prob (F-statistic):</th>  <td>  0.00</td> \n",
       "</tr>\n",
       "<tr>\n",
       "  <th>Time:</th>                 <td>15:29:55</td>      <th>  Log-Likelihood:    </th> <td>  4839.1</td>\n",
       "</tr>\n",
       "<tr>\n",
       "  <th>No. Observations:</th>      <td>  1509</td>       <th>  AIC:               </th> <td>  -9674.</td>\n",
       "</tr>\n",
       "<tr>\n",
       "  <th>Df Residuals:</th>          <td>  1507</td>       <th>  BIC:               </th> <td>  -9663.</td>\n",
       "</tr>\n",
       "<tr>\n",
       "  <th>Df Model:</th>              <td>     1</td>       <th>                     </th>     <td> </td>   \n",
       "</tr>\n",
       "<tr>\n",
       "  <th>Covariance Type:</th>      <td>nonrobust</td>     <th>                     </th>     <td> </td>   \n",
       "</tr>\n",
       "</table>\n",
       "<table class=\"simpletable\">\n",
       "<tr>\n",
       "           <td></td>             <th>coef</th>     <th>std err</th>      <th>t</th>      <th>P>|t|</th>  <th>[0.025</th>    <th>0.975]</th>  \n",
       "</tr>\n",
       "<tr>\n",
       "  <th>Intercept</th>          <td>    0.0005</td> <td>    0.000</td> <td>    1.972</td> <td> 0.049</td> <td> 2.55e-06</td> <td>    0.001</td>\n",
       "</tr>\n",
       "<tr>\n",
       "  <th>Daily_return_SP500</th> <td>    1.2300</td> <td>    0.020</td> <td>   60.977</td> <td> 0.000</td> <td>    1.190</td> <td>    1.270</td>\n",
       "</tr>\n",
       "</table>\n",
       "<table class=\"simpletable\">\n",
       "<tr>\n",
       "  <th>Omnibus:</th>       <td>160.857</td> <th>  Durbin-Watson:     </th> <td>   1.991</td> \n",
       "</tr>\n",
       "<tr>\n",
       "  <th>Prob(Omnibus):</th> <td> 0.000</td>  <th>  Jarque-Bera (JB):  </th> <td>1139.772</td> \n",
       "</tr>\n",
       "<tr>\n",
       "  <th>Skew:</th>          <td> 0.191</td>  <th>  Prob(JB):          </th> <td>3.17e-248</td>\n",
       "</tr>\n",
       "<tr>\n",
       "  <th>Kurtosis:</th>      <td> 7.240</td>  <th>  Cond. No.          </th> <td>    79.9</td> \n",
       "</tr>\n",
       "</table><br/><br/>Notes:<br/>[1] Standard Errors assume that the covariance matrix of the errors is correctly specified."
      ],
      "text/plain": [
       "<class 'statsmodels.iolib.summary.Summary'>\n",
       "\"\"\"\n",
       "                            OLS Regression Results                            \n",
       "==============================================================================\n",
       "Dep. Variable:      Daily_return_MSFT   R-squared:                       0.712\n",
       "Model:                            OLS   Adj. R-squared:                  0.711\n",
       "Method:                 Least Squares   F-statistic:                     3718.\n",
       "Date:                Tue, 07 Mar 2023   Prob (F-statistic):               0.00\n",
       "Time:                        15:29:55   Log-Likelihood:                 4839.1\n",
       "No. Observations:                1509   AIC:                            -9674.\n",
       "Df Residuals:                    1507   BIC:                            -9663.\n",
       "Df Model:                           1                                         \n",
       "Covariance Type:            nonrobust                                         \n",
       "======================================================================================\n",
       "                         coef    std err          t      P>|t|      [0.025      0.975]\n",
       "--------------------------------------------------------------------------------------\n",
       "Intercept              0.0005      0.000      1.972      0.049    2.55e-06       0.001\n",
       "Daily_return_SP500     1.2300      0.020     60.977      0.000       1.190       1.270\n",
       "==============================================================================\n",
       "Omnibus:                      160.857   Durbin-Watson:                   1.991\n",
       "Prob(Omnibus):                  0.000   Jarque-Bera (JB):             1139.772\n",
       "Skew:                           0.191   Prob(JB):                    3.17e-248\n",
       "Kurtosis:                       7.240   Cond. No.                         79.9\n",
       "==============================================================================\n",
       "\n",
       "Notes:\n",
       "[1] Standard Errors assume that the covariance matrix of the errors is correctly specified.\n",
       "\"\"\""
      ]
     },
     "execution_count": 8,
     "metadata": {},
     "output_type": "execute_result"
    }
   ],
   "source": [
    "model= smf.ols(\"Daily_return_MSFT ~ Daily_return_SP500\",DR)\n",
    "result= model.fit()\n",
    "result.summary()"
   ]
  },
  {
   "cell_type": "markdown",
   "id": "04f9bb9f",
   "metadata": {},
   "source": [
    "## Components of the CAPM formula\n",
    "\n"
   ]
  },
  {
   "cell_type": "code",
   "execution_count": 11,
   "id": "f1c6138c",
   "metadata": {},
   "outputs": [
    {
     "name": "stdout",
     "output_type": "stream",
     "text": [
      " the beta is 1.23 \n",
      " the risk free rate is 4.18 percent\n",
      " the market return in the period was 88.52237636473743 percent\n"
     ]
    }
   ],
   "source": [
    "Market_return=((S_P500['Adj Close'].iloc[-1]/S_P500['Adj Close'].iloc[0])-1)\n",
    "Risk_free_rate= 0.0418\n",
    "beta= 1.23\n",
    "print(\" the beta is {} \" .format(beta))\n",
    "print(\" the risk free rate is {} percent\" .format(Risk_free_rate*100))\n",
    "print(\" the market return in the period was {} percent\" .format(Market_yield*100))"
   ]
  },
  {
   "cell_type": "markdown",
   "id": "a7c3475c",
   "metadata": {},
   "source": [
    "## Expected return of the Microsoft stock according to the CAPM formula\n"
   ]
  },
  {
   "cell_type": "code",
   "execution_count": 12,
   "id": "fad10435",
   "metadata": {},
   "outputs": [
    {
     "name": "stdout",
     "output_type": "stream",
     "text": [
      " the expected return of the stock is 107.92112292862706 percent\n"
     ]
    }
   ],
   "source": [
    "Ex_return= Risk_free_rate + beta*(Market_return-Risk_free_rate)\n",
    "print(\" the expected return of the stock is {} percent\" .format(Ex_return*100))\n",
    "\n"
   ]
  },
  {
   "cell_type": "code",
   "execution_count": null,
   "id": "a0a387d9",
   "metadata": {},
   "outputs": [],
   "source": []
  }
 ],
 "metadata": {
  "kernelspec": {
   "display_name": "Python 3 (ipykernel)",
   "language": "python",
   "name": "python3"
  },
  "language_info": {
   "codemirror_mode": {
    "name": "ipython",
    "version": 3
   },
   "file_extension": ".py",
   "mimetype": "text/x-python",
   "name": "python",
   "nbconvert_exporter": "python",
   "pygments_lexer": "ipython3",
   "version": "3.9.13"
  }
 },
 "nbformat": 4,
 "nbformat_minor": 5
}
